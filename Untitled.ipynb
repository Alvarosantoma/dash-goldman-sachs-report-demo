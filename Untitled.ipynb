{
 "cells": [
  {
   "cell_type": "code",
   "execution_count": 10,
   "metadata": {
    "collapsed": true
   },
   "outputs": [],
   "source": [
    "import pandas as pd\n",
    "import dash\n",
    "from dash.dependencies import Input, Output\n",
    "import dash_core_components as dcc\n",
    "import dash_html_components as html\n",
    "import plotly.plotly as py\n",
    "\n",
    "from plotly import graph_objs as go\n",
    "from datetime import datetime as dt\n",
    "import pandas as pd\n",
    "import json\n",
    "import pandas_datareader.data as web"
   ]
  },
  {
   "cell_type": "code",
   "execution_count": 11,
   "metadata": {
    "collapsed": false
   },
   "outputs": [],
   "source": [
    "df = pd.read_csv(\"GS.csv\")\n",
    "mf = pd.read_csv(\"JPMorgan.csv\")\n",
    "cf = pd.read_csv(\"MS.csv\")"
   ]
  },
  {
   "cell_type": "code",
   "execution_count": 14,
   "metadata": {
    "collapsed": false
   },
   "outputs": [
    {
     "data": {
      "text/plain": [
       "u'https://plot.ly/~alishobeiri/660'"
      ]
     },
     "execution_count": 14,
     "metadata": {},
     "output_type": "execute_result"
    }
   ],
   "source": [
    "        trace1 = {\n",
    "          \"labels\": [\"Governments\", \"Asset-Back Securities (ABS)\", \"Residential Mortgages (RMBS)\", \"Emerging Market Debt\", \"Corporates - High Yield\", \"Municipal\", \"Commercial Mortgages (CMBS)\", \"Corporates - Inv. Grade\", \"Covered Bonds\", \"Quasi-Governments\", \"Derivatives\", \"N/A\"],\n",
    "          \"labelssrc\": \"alishobeiri:662:381214\",\n",
    "          \"name\": \"B\",\n",
    "          \"type\": \"pie\",\n",
    "          \"uid\": \"353874\",\n",
    "          \"values\": [\"46.5\", \"18.7\", \"10.6\", \"4.7\", \"2.7\", \"1.4\", \"1.4\", \"0.8\", \"0.4\", \"0.3\", \"0.0\", \"12.5\"],\n",
    "          \"valuessrc\": \"alishobeiri:662:02d060\"\n",
    "        }\n",
    "        data = go.Data([trace1])\n",
    "        layout = {\n",
    "          \"annotations\": [\n",
    "            {\n",
    "              \"x\": 0.858333333333,\n",
    "              \"y\": 0.569230769231,\n",
    "              \"font\": {\"size\": 12},\n",
    "              \"showarrow\": False,\n",
    "              \"text\": \"Governments\",\n",
    "              \"xref\": \"x\",\n",
    "              \"yref\": \"y\"\n",
    "            },\n",
    "            {\n",
    "              \"x\": 0.243333333333,\n",
    "              \"y\": 0.884615384615,\n",
    "              \"font\": {\"size\": 9},\n",
    "              \"showarrow\": False,\n",
    "              \"text\": \"Asset-Backed<br>Securities\",\n",
    "              \"xref\": \"x\",\n",
    "              \"yref\": \"y\"\n",
    "            },\n",
    "            {\n",
    "              \"x\": 0.14,\n",
    "              \"y\": 0.5475,\n",
    "              \"font\": {\"size\": 10},\n",
    "              \"showarrow\": False,\n",
    "              \"text\": \"N/A\",\n",
    "              \"xref\": \"x\",\n",
    "              \"yref\": \"y\"\n",
    "            },\n",
    "            {\n",
    "              \"x\": 0.25,\n",
    "              \"y\": 0.257692307692,\n",
    "              \"showarrow\": False,\n",
    "              \"text\": \"Residential <br>Mortages\",\n",
    "              \"textangle\": -35,\n",
    "              \"xref\": \"x\",\n",
    "              \"yref\": \"y\"\n",
    "            },\n",
    "            {\n",
    "              \"x\": 0.4267,\n",
    "              \"y\": 0.111609850453,\n",
    "              \"showarrow\": False,\n",
    "              \"text\": \"Emerging Mkt Debt\",\n",
    "              \"textangle\": -68,\n",
    "              \"xref\": \"x\",\n",
    "              \"yref\": \"y\"\n",
    "            }\n",
    "          ],\n",
    "          \"autosize\": True,\n",
    "          \"bargroupgap\": 0.2,\n",
    "          \"font\": {\n",
    "            \"family\": \"Raleway\",\n",
    "            \"size\": 9\n",
    "          },\n",
    "          \"height\": 300,\n",
    "          \"hiddenlabels\": [\"Derivatives\"],\n",
    "          \"hovermode\": \"closest\",\n",
    "          \"legend\": {\n",
    "            \"x\": 2.46333333333,\n",
    "            \"y\": 0.810153846154,\n",
    "            \"bgcolor\": \"rgba(255, 255, 255, 0)\",\n",
    "            \"font\": {\"color\": \"rgb(68, 68, 68)\"},\n",
    "            \"orientation\": \"v\",\n",
    "            \"xanchor\": \"left\"\n",
    "          },\n",
    "          \"margin\": {\n",
    "            \"r\": 0,\n",
    "            \"t\": 0,\n",
    "            \"b\": 40,\n",
    "            \"l\": 0,\n",
    "            \"pad\": 6\n",
    "          },\n",
    "          \"showlegend\": False,\n",
    "          \"titlefont\": {\n",
    "            \"family\": \"Raleway\",\n",
    "            \"size\": 9\n",
    "          },\n",
    "          \"width\": 200\n",
    "        }\n",
    "fig = go.Figure(data=data, layout=layout)\n",
    "py.plot(fig, filename=\"Helo\")"
   ]
  },
  {
   "cell_type": "code",
   "execution_count": 13,
   "metadata": {
    "collapsed": false
   },
   "outputs": [
    {
     "data": {
      "text/plain": [
       "RangeIndex(start=2000, stop=4559, step=1)"
      ]
     },
     "execution_count": 13,
     "metadata": {},
     "output_type": "execute_result"
    }
   ],
   "source": [
    "df.index[2000:]"
   ]
  }
 ],
 "metadata": {
  "kernelspec": {
   "display_name": "Python 2",
   "language": "python",
   "name": "python2"
  },
  "language_info": {
   "codemirror_mode": {
    "name": "ipython",
    "version": 2
   },
   "file_extension": ".py",
   "mimetype": "text/x-python",
   "name": "python",
   "nbconvert_exporter": "python",
   "pygments_lexer": "ipython2",
   "version": "2.7.13"
  }
 },
 "nbformat": 4,
 "nbformat_minor": 2
}
