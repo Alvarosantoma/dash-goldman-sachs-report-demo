{
 "cells": [
  {
   "cell_type": "code",
   "execution_count": 2,
   "metadata": {
    "collapsed": false
   },
   "outputs": [],
   "source": [
    "import plotly.plotly as py\n",
    "import pandas as pd\n",
    "import plotly.graph_objs as go\n",
    "\n",
    "df1 = pd.read_csv('https://plot.ly/~alishobeiri/59.csv')\n",
    "df2 = pd.read_csv('https://plot.ly/~alishobeiri/128.csv')\n",
    "df3 = pd.read_csv('https://plot.ly/~alishobeiri/156.csv')\n",
    "df4 = pd.read_csv('https://plot.ly/~alishobeiri/157.csv')"
   ]
  },
  {
   "cell_type": "code",
   "execution_count": 3,
   "metadata": {
    "collapsed": false
   },
   "outputs": [
    {
     "data": {
      "text/html": [
       "<div>\n",
       "<table border=\"1\" class=\"dataframe\">\n",
       "  <thead>\n",
       "    <tr style=\"text-align: right;\">\n",
       "      <th></th>\n",
       "      <th>Col1</th>\n",
       "      <th>Col2</th>\n",
       "    </tr>\n",
       "  </thead>\n",
       "  <tbody>\n",
       "    <tr>\n",
       "      <th>0</th>\n",
       "      <td>1</td>\n",
       "      <td>13.770</td>\n",
       "    </tr>\n",
       "    <tr>\n",
       "      <th>1</th>\n",
       "      <td>2</td>\n",
       "      <td>-14.650</td>\n",
       "    </tr>\n",
       "    <tr>\n",
       "      <th>2</th>\n",
       "      <td>3</td>\n",
       "      <td>-13.520</td>\n",
       "    </tr>\n",
       "    <tr>\n",
       "      <th>3</th>\n",
       "      <td>4</td>\n",
       "      <td>3.333</td>\n",
       "    </tr>\n",
       "    <tr>\n",
       "      <th>4</th>\n",
       "      <td>5</td>\n",
       "      <td>5.723</td>\n",
       "    </tr>\n",
       "  </tbody>\n",
       "</table>\n",
       "</div>"
      ],
      "text/plain": [
       "   Col1    Col2\n",
       "0     1  13.770\n",
       "1     2 -14.650\n",
       "2     3 -13.520\n",
       "3     4   3.333\n",
       "4     5   5.723"
      ]
     },
     "execution_count": 3,
     "metadata": {},
     "output_type": "execute_result"
    }
   ],
   "source": [
    "df3.head()"
   ]
  },
  {
   "cell_type": "code",
   "execution_count": 64,
   "metadata": {
    "collapsed": false
   },
   "outputs": [
    {
     "data": {
      "text/plain": [
       "u'https://plot.ly/~alishobeiri/511'"
      ]
     },
     "execution_count": 64,
     "metadata": {},
     "output_type": "execute_result"
    }
   ],
   "source": [
    "trace1 = go.Scatter(\n",
    "    x=df1['Col1'],\n",
    "    y=df1['Col2'],\n",
    "    name=\"Actual\",\n",
    "    marker=dict(\n",
    "        opacity=0,\n",
    "        maxdisplayed=0,\n",
    "    ),\n",
    "    line=dict(\n",
    "        color=\"#e41f23\",\n",
    "        width=2,\n",
    "    ),\n",
    "    hoverinfo=\"y\",\n",
    ")\n",
    "\n",
    "trace2 = go.Scatter(\n",
    "    x=df2['Col1'],\n",
    "    y=df2['Col2'],\n",
    "    name=\"Seasonal\",\n",
    "    line=dict(\n",
    "        dash=\"dash\",\n",
    "        color=\"black\",\n",
    "        width = \"2\",\n",
    "    ),\n",
    "    hoverinfo=\"y\",\n",
    ")\n",
    "\n",
    "trace4 = go.Bar(\n",
    "    x=df3['Col1'],\n",
    "    y=df3['Col2'],\n",
    "    name=\"Main Products\",\n",
    "    marker=dict(\n",
    "        color='#ece3f9',\n",
    "    )\n",
    ")\n",
    "\n",
    "trace5 = go.Bar(\n",
    "    x=df4['Col1'],\n",
    "    y=df4['Col2'],\n",
    "    name=\"Crude ex. US SPR\",\n",
    "    marker=dict(\n",
    "        color='#c3c5c9',\n",
    "    )\n",
    "    \n",
    ")\n",
    "\n",
    "trace3 = go.Scatter(\n",
    "    x=df2['Col1'],\n",
    "    y=df2['Col2'],\n",
    "    line=dict(\n",
    "        color=\"#FFFFFF\",\n",
    "    ),\n",
    "    xaxis='x2',\n",
    "    visible=False\n",
    ")\n",
    "data=[trace4, trace5, trace2, trace1, trace3]\n",
    "\n",
    "layout=go.Layout(\n",
    "    barmode='relative',\n",
    "    xaxis=dict(\n",
    "        range=[0.5, 8.5],\n",
    "        showgrid=False,\n",
    "        ticks=\"\",\n",
    "        autotick=False,\n",
    "        zeroline=True,\n",
    "        zerolinecolor='#FFFFFF',\n",
    "        tickcolor='#b0b1b2',\n",
    "        tickfont=dict(family=\"Arial\", size=9),\n",
    "        showline=False,\n",
    "        tickmode=\"array\",\n",
    "        ticktext=[\"Jan-15\", \"Feb-15\",\"Mar-15\", \"Apr-15\", \"May-15\", \"Jun-15\", \"Jul-15\", \"Aug-15\"],\n",
    "        tickvals=[1, 2, 3, 4, 5, 6, 7, 8],\n",
    "    ),\n",
    "    yaxis=dict(\n",
    "        range=[-20, 50],\n",
    "        nticks=8,\n",
    "        showgrid=False,\n",
    "        ticks=\"outside\",\n",
    "        showline=False,\n",
    "        linecolor='#b0b1b2',\n",
    "        zerolinecolor='#b0b1b2',\n",
    "        tickcolor='#b0b1b2',\n",
    "        tickfont=dict(family=\"Arial\", size=9),\n",
    "        ticksuffix=\" \",\n",
    "    ),\n",
    "     xaxis2=dict(\n",
    "         range=[0.5, 8.5],\n",
    "          overlaying='x',\n",
    "        position=\"0.38\",\n",
    "#         tickcolor='#b0b1b2',\n",
    "#         ticks=\"outside\",\n",
    "         showticklabels=False,\n",
    "         showgrid=False,\n",
    "         fixedrange=True,\n",
    "#         showline=False,\n",
    "        ticktext=[\"Jan-15\", \"Feb-15\",\"Mar-15\", \"Apr-15\", \"May-15\", \"Jun-15\", \"Jul-15\", \"Aug-15\"],\n",
    "        tickvals=[1, 2, 3, 4, 5, 6, 7, 8],\n",
    "     ),\n",
    "    margin=go.Margin(\n",
    "        l=40,\n",
    "        r=40,\n",
    "        b=-1,\n",
    "        t=5,\n",
    "        pad=5\n",
    "    ),\n",
    "    legend=dict(orientation='h', font=dict(size=9), x=0.1, y=-.15),\n",
    "    hovermode='closest',\n",
    "     height=\"250\",\n",
    "     width=\"800\"\n",
    "\n",
    ")\n",
    "fig = go.Figure(data=data, layout=layout)\n",
    "py.plot(fig, filename=\"ExhibitTwo\")"
   ]
  },
  {
   "cell_type": "code",
   "execution_count": null,
   "metadata": {
    "collapsed": true
   },
   "outputs": [],
   "source": []
  },
  {
   "cell_type": "code",
   "execution_count": null,
   "metadata": {
    "collapsed": true
   },
   "outputs": [],
   "source": []
  },
  {
   "cell_type": "code",
   "execution_count": null,
   "metadata": {
    "collapsed": true
   },
   "outputs": [],
   "source": []
  },
  {
   "cell_type": "code",
   "execution_count": null,
   "metadata": {
    "collapsed": true
   },
   "outputs": [],
   "source": []
  },
  {
   "cell_type": "code",
   "execution_count": null,
   "metadata": {
    "collapsed": true
   },
   "outputs": [],
   "source": []
  },
  {
   "cell_type": "code",
   "execution_count": null,
   "metadata": {
    "collapsed": true
   },
   "outputs": [],
   "source": []
  }
 ],
 "metadata": {
  "kernelspec": {
   "display_name": "Python 2",
   "language": "python",
   "name": "python2"
  },
  "language_info": {
   "codemirror_mode": {
    "name": "ipython",
    "version": 2
   },
   "file_extension": ".py",
   "mimetype": "text/x-python",
   "name": "python",
   "nbconvert_exporter": "python",
   "pygments_lexer": "ipython2",
   "version": "2.7.13"
  }
 },
 "nbformat": 4,
 "nbformat_minor": 2
}
