{
 "cells": [
  {
   "cell_type": "code",
   "execution_count": 10,
   "metadata": {
    "collapsed": true
   },
   "outputs": [],
   "source": [
    "import pandas as pd\n",
    "import dash\n",
    "from dash.dependencies import Input, Output\n",
    "import dash_core_components as dcc\n",
    "import dash_html_components as html\n",
    "import plotly.plotly as py\n",
    "\n",
    "from plotly import graph_objs as go\n",
    "from datetime import datetime as dt\n",
    "import pandas as pd\n",
    "import json\n",
    "import pandas_datareader.data as web"
   ]
  },
  {
   "cell_type": "code",
   "execution_count": 16,
   "metadata": {
    "collapsed": false
   },
   "outputs": [],
   "source": [
    "df = pd.read_csv(\"GS.csv\")\n",
    "mf = pd.read_csv(\"JPMorgan.csv\")\n",
    "cf = pd.read_csv(\"MS.csv\")"
   ]
  },
  {
   "cell_type": "code",
   "execution_count": 64,
   "metadata": {
    "collapsed": false
   },
   "outputs": [
    {
     "data": {
      "text/plain": [
       "0       22320900.0\n",
       "1        7565700.0\n",
       "2        2905700.0\n",
       "3        4862300.0\n",
       "4        2589400.0\n",
       "5        1839800.0\n",
       "6        2659300.0\n",
       "7        1142900.0\n",
       "8        2058400.0\n",
       "9        2075000.0\n",
       "10       1407100.0\n",
       "11        727400.0\n",
       "12        520800.0\n",
       "13        936200.0\n",
       "14       1493000.0\n",
       "15       1662400.0\n",
       "16       1602900.0\n",
       "17       1220500.0\n",
       "18        901900.0\n",
       "19        953900.0\n",
       "20       2204300.0\n",
       "21        852600.0\n",
       "22       1357400.0\n",
       "23        891900.0\n",
       "24        571700.0\n",
       "25        611400.0\n",
       "26        664200.0\n",
       "27        969300.0\n",
       "28        821100.0\n",
       "29        831700.0\n",
       "           ...    \n",
       "4529     3036575.0\n",
       "4530     2934425.0\n",
       "4531     2428534.0\n",
       "4532     2315930.0\n",
       "4533     2135170.0\n",
       "4534     2628398.0\n",
       "4535     2397710.0\n",
       "4536     2148115.0\n",
       "4537     2460326.0\n",
       "4538     1706942.0\n",
       "4539     7508417.0\n",
       "4540     4786400.0\n",
       "4541     3738931.0\n",
       "4542     2468406.0\n",
       "4543     3304909.0\n",
       "4544     4141625.0\n",
       "4545     2637582.0\n",
       "4546     1780436.0\n",
       "4547     3091941.0\n",
       "4548     8223098.0\n",
       "4549     4043504.0\n",
       "4550     3687931.0\n",
       "4551     2687394.0\n",
       "4552     2888275.0\n",
       "4553     2652730.0\n",
       "4554     3752351.0\n",
       "4555     4445881.0\n",
       "4556     3380105.0\n",
       "4557     2755468.0\n",
       "4558     3620918.0\n",
       "Name: volume, dtype: float64"
      ]
     },
     "execution_count": 64,
     "metadata": {},
     "output_type": "execute_result"
    }
   ],
   "source": [
    "df['volume']"
   ]
  },
  {
   "cell_type": "code",
   "execution_count": 34,
   "metadata": {
    "collapsed": false
   },
   "outputs": [
    {
     "data": {
      "text/plain": [
       "u'https://plot.ly/~alishobeiri/660'"
      ]
     },
     "execution_count": 34,
     "metadata": {},
     "output_type": "execute_result"
    }
   ],
   "source": [
    "data=[{\n",
    "        'x': df['date'],\n",
    "        'y': df['close'],\n",
    "        \"line\": {\n",
    "            \"color\": \"rgb(140, 15, 7)\",\n",
    "            \"width\": 3\n",
    "        },\n",
    "    }],\n",
    "layout={\n",
    "        'autosize': True,\n",
    "        'margin': {\"r\": 0, \"t\": 10, \"b\": 30, \"l\": 35, \"pad\": 0},\n",
    "        'width': '425',\n",
    "        'height': '250',\n",
    "        \"plot_bgcolor\": \"rgb(217, 224, 236)\",\n",
    "        'xaxis': {'gridcolor': 'rgb(255, 255, 255)', \"range\": [2001, 2018]},\n",
    "        'yaxis': {'gridcolor': 'rgb(255, 255, 255)'}\n",
    "       }\n",
    "fig = go.Figure(data=[{\n",
    "        'x': df['date'],\n",
    "        'y': df['close'],\n",
    "        \"line\": {\n",
    "            \"color\": \"rgb(140, 15, 7)\",\n",
    "            \"width\": 3\n",
    "        },\n",
    "    }], layout={\n",
    "        'autosize': True,\n",
    "        'margin': {\"r\": 0, \"t\": 10, \"b\": 30, \"l\": 35, \"pad\": 0},\n",
    "        'width': '425',\n",
    "        'height': '250',\n",
    "        \"plot_bgcolor\": \"rgb(217, 224, 236)\",\n",
    "        'xaxis': {'gridcolor': 'rgb(255, 255, 255)', \"range\": [2001, 2018]},\n",
    "        'yaxis': {'gridcolor': 'rgb(255, 255, 255)'}\n",
    "       })\n",
    "py.plot(fig, filename=\"Helo\")"
   ]
  },
  {
   "cell_type": "code",
   "execution_count": 67,
   "metadata": {
    "collapsed": false
   },
   "outputs": [],
   "source": [
    "    df = pd.read_csv(\"GS.csv\")\n",
    "    mf = pd.read_csv(\"JPMorgan.csv\")\n",
    "    cf = pd.read_csv(\"MS.csv\")\n",
    "    # Construct a figure and return it to dash's front-end\n",
    "    # This will end up updating the Graph's `figure` property\n",
    "    # in the front-end of the application.\n",
    "    stockTicker = {\n",
    "        'x': df['date'],\n",
    "        'y': df['close'],\n",
    "        \"line\": {\n",
    "            \"color\": \"rgb(140, 15, 7)\",\n",
    "            \"width\": 3\n",
    "        },\n",
    "        \"name\": \"GS\",\n",
    "        \"type\": \"scatter\",\n",
    "        \"uid\": \"0fac46\",\n",
    "        \"xsrc\": \"alishobeiri:661:796f86\",\n",
    "        \"ysrc\": \"alishobeiri:661:56eff0\"\n",
    "    }\n",
    "    movingAverage = {\n",
    "        'x': df['date'],\n",
    "        'y': df['close'].rolling(50).mean(),\n",
    "        \"line\": {\n",
    "            \"color\": \"#f4c242\",\n",
    "            \"width\": 1\n",
    "        },\n",
    "        \"name\": \"Moving Average\"\n",
    "    }\n",
    "    volume = {\n",
    "        'x': df['date'],\n",
    "        'y': df['volume'],\n",
    "        'name': 'Moving Average',\n",
    "        'line': {\n",
    "            \"color\": \"#f4c242\",\n",
    "            \"width\": 1\n",
    "        }\n",
    "        }\n",
    "    data = go.Data([stockTicker, movingAverage, volume])\n",
    "    layout = {\n",
    "            'autosize': True,\n",
    "            'margin': {\"r\": 0, \"t\": 10, \"b\": 30, \"l\": 35, \"pad\": 0},\n",
    "            'width': '425',\n",
    "            'height': '250',\n",
    "            \"plot_bgcolor\": \"rgb(217, 224, 236)\",\n",
    "            'xaxis': {'gridcolor': 'rgb(255, 255, 255)', \"range\": [\"2008-01-01 00:00:00\", \"2018-12-31 00:00:00.00\"]},\n",
    "            'yaxis': {'gridcolor': 'rgb(255, 255, 255)'},\n",
    "            'showlegend': False\n",
    "           }\n",
    "\n",
    "fig = go.Figure(data=data, layout=layout)"
   ]
  },
  {
   "cell_type": "code",
   "execution_count": 69,
   "metadata": {
    "collapsed": false
   },
   "outputs": [
    {
     "data": {
      "text/plain": [
       "u'https://plot.ly/~alishobeiri/664'"
      ]
     },
     "execution_count": 69,
     "metadata": {},
     "output_type": "execute_result"
    }
   ],
   "source": [
    "py.plot(fig)"
   ]
  },
  {
   "cell_type": "code",
   "execution_count": 13,
   "metadata": {
    "collapsed": false
   },
   "outputs": [
    {
     "data": {
      "text/plain": [
       "RangeIndex(start=2000, stop=4559, step=1)"
      ]
     },
     "execution_count": 13,
     "metadata": {},
     "output_type": "execute_result"
    }
   ],
   "source": [
    "df.index[2000:]"
   ]
  }
 ],
 "metadata": {
  "kernelspec": {
   "display_name": "Python 2",
   "language": "python",
   "name": "python2"
  },
  "language_info": {
   "codemirror_mode": {
    "name": "ipython",
    "version": 2
   },
   "file_extension": ".py",
   "mimetype": "text/x-python",
   "name": "python",
   "nbconvert_exporter": "python",
   "pygments_lexer": "ipython2",
   "version": "2.7.13"
  }
 },
 "nbformat": 4,
 "nbformat_minor": 2
}
