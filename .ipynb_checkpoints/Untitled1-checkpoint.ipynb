{
 "cells": [
  {
   "cell_type": "code",
   "execution_count": 27,
   "metadata": {
    "collapsed": false
   },
   "outputs": [
    {
     "ename": "SyntaxError",
     "evalue": "invalid syntax (<ipython-input-27-f0ff605cfd02>, line 26)",
     "output_type": "error",
     "traceback": [
      "\u001b[0;36m  File \u001b[0;32m\"<ipython-input-27-f0ff605cfd02>\"\u001b[0;36m, line \u001b[0;32m26\u001b[0m\n\u001b[0;31m    ],\u001b[0m\n\u001b[0m    ^\u001b[0m\n\u001b[0;31mSyntaxError\u001b[0m\u001b[0;31m:\u001b[0m invalid syntax\n"
     ]
    }
   ],
   "source": [
    "import plotly.plotly as py\n",
    "from plotly.graph_objs import *\n",
    "py.sign_in('alishobeiri', 'TGRyfPDCOfii9XmU7xU1')\n",
    "x= [\"AAA\", \"AA\", \"A\", \"BBB\", \"BB\", \"B\", \"CCC\"]\n",
    "y= [\"1497\", \"976\", \"1016\", \"1739\", \"993\", \"545\", \"31\"] \n",
    "trace1 = {\n",
    "  \"x\": [\"AAA\", \"AA\", \"A\", \"BBB\", \"BB\", \"B\", \"CCC\"], \n",
    "  \"y\": [\"1497\", \"976\", \"1016\", \"1739\", \"993\", \"545\", \"31\"], \n",
    "  \"hoverinfo\": \"x+y\", \n",
    "  \"marker\": {\"color\": \"rgb(95, 56, 144)\"}, \n",
    "  \"name\": \"y\", \n",
    "  \"type\": \"bar\", \n",
    "  \"uid\": \"9453fc\", \n",
    "  \"xsrc\": \"alishobeiri:541:bcd175\", \n",
    "  \"ysrc\": \"alishobeiri:541:f69cc4\"\n",
    "}\n",
    "data = Data([trace1])\n",
    "layout = {\n",
    "    \"annotations\": [\n",
    "        dict(x=xi,y=yi,\n",
    "             text=str(yi),\n",
    "             xanchor='center',\n",
    "             yanchor='bottom',\n",
    "             showarrow=False,\n",
    "        ) for xi, yi in zip(x, y)\n",
    "    ],\n",
    "  \"autosize\": True, \n",
    "  \"bargap\": 0.75, \n",
    "  \"hovermode\": \"closest\", \n",
    "  \"margin\": {\n",
    "    \"r\": 0, \n",
    "    \"t\": 10, \n",
    "    \"b\": 30, \n",
    "    \"l\": 60\n",
    "  }, \n",
    "  \"xaxis\": {\n",
    "    \"autorange\": True, \n",
    "    \"nticks\": 10, \n",
    "    \"range\": [-0.5, 6.5], \n",
    "    \"tickfont\": {\"size\": 12}, \n",
    "    \"ticks\": \"\", \n",
    "    \"title\": \"\", \n",
    "    \"type\": \"category\"\n",
    "  }, \n",
    "  \"yaxis\": {\n",
    "    \"autorange\": False, \n",
    "    \"nticks\": 9, \n",
    "    \"range\": [0, 2250], \n",
    "    \"showgrid\": False, \n",
    "    \"showline\": True, \n",
    "    \"ticks\": \"outside\", \n",
    "    \"title\": \"2015E production by rating (mboe)<br><br>\", \n",
    "    \"type\": \"linear\", \n",
    "    \"zeroline\": True,\n",
    "    \"dtick\": \"250\"\n",
    "  }\n",
    "}\n",
    "fig = Figure(data=data, layout=layout)\n",
    "py.iplot(fig)"
   ]
  },
  {
   "cell_type": "code",
   "execution_count": null,
   "metadata": {
    "collapsed": true
   },
   "outputs": [],
   "source": []
  }
 ],
 "metadata": {
  "kernelspec": {
   "display_name": "Python 2",
   "language": "python",
   "name": "python2"
  },
  "language_info": {
   "codemirror_mode": {
    "name": "ipython",
    "version": 2
   },
   "file_extension": ".py",
   "mimetype": "text/x-python",
   "name": "python",
   "nbconvert_exporter": "python",
   "pygments_lexer": "ipython2",
   "version": "2.7.13"
  }
 },
 "nbformat": 4,
 "nbformat_minor": 2
}
