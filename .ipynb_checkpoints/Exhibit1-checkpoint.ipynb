{
 "cells": [
  {
   "cell_type": "code",
   "execution_count": 3,
   "metadata": {
    "collapsed": false
   },
   "outputs": [],
   "source": [
    "import plotly.plotly as py\n",
    "import pandas as pd\n",
    "import plotly.graph_objs as go\n",
    "\n",
    "df1 = pd.read_csv('https://plot.ly/~alishobeiri/51.csv')\n",
    "df2 = pd.read_csv('https://plot.ly/~alishobeiri/52.csv')"
   ]
  },
  {
   "cell_type": "code",
   "execution_count": 2,
   "metadata": {
    "collapsed": false
   },
   "outputs": [
    {
     "data": {
      "text/html": [
       "<div>\n",
       "<table border=\"1\" class=\"dataframe\">\n",
       "  <thead>\n",
       "    <tr style=\"text-align: right;\">\n",
       "      <th></th>\n",
       "      <th>Col1</th>\n",
       "      <th>Col2</th>\n",
       "    </tr>\n",
       "  </thead>\n",
       "  <tbody>\n",
       "    <tr>\n",
       "      <th>0</th>\n",
       "      <td>1988.042933</td>\n",
       "      <td>1818.241544</td>\n",
       "    </tr>\n",
       "    <tr>\n",
       "      <th>1</th>\n",
       "      <td>1988.434243</td>\n",
       "      <td>1474.778573</td>\n",
       "    </tr>\n",
       "    <tr>\n",
       "      <th>2</th>\n",
       "      <td>1988.691976</td>\n",
       "      <td>3188.255869</td>\n",
       "    </tr>\n",
       "    <tr>\n",
       "      <th>3</th>\n",
       "      <td>1988.738100</td>\n",
       "      <td>2690.062551</td>\n",
       "    </tr>\n",
       "    <tr>\n",
       "      <th>4</th>\n",
       "      <td>1988.784435</td>\n",
       "      <td>2368.950354</td>\n",
       "    </tr>\n",
       "  </tbody>\n",
       "</table>\n",
       "</div>"
      ],
      "text/plain": [
       "          Col1         Col2\n",
       "0  1988.042933  1818.241544\n",
       "1  1988.434243  1474.778573\n",
       "2  1988.691976  3188.255869\n",
       "3  1988.738100  2690.062551\n",
       "4  1988.784435  2368.950354"
      ]
     },
     "execution_count": 2,
     "metadata": {},
     "output_type": "execute_result"
    }
   ],
   "source": [
    "df1.head()"
   ]
  },
  {
   "cell_type": "code",
   "execution_count": 11,
   "metadata": {
    "collapsed": false
   },
   "outputs": [
    {
     "data": {
      "text/plain": [
       "u'https://plot.ly/~alishobeiri/55'"
      ]
     },
     "execution_count": 11,
     "metadata": {},
     "output_type": "execute_result"
    }
   ],
   "source": [
    "trace1 = go.Scatter(\n",
    "    x=df1['Col1'],\n",
    "    y=df1['Col2'],\n",
    "    name=\"Demand\",\n",
    "    line=dict(\n",
    "        color=\"#7453a0\",\n",
    "        width=1.5,\n",
    "    ),\n",
    "    hoverinfo=\"y\",\n",
    ")\n",
    "\n",
    "trace2 = go.Scatter(\n",
    "    x=df2['Col1'],\n",
    "    y=df2['Col2'],\n",
    "    name=\"Supply\",\n",
    "    line=dict(\n",
    "        color=\"#beb1d1\",\n",
    "        width = 1.5,\n",
    "    ),\n",
    "    hoverinfo=\"y\",\n",
    ")\n",
    "\n",
    "trace3 = go.Scatter(\n",
    "    x=df2['Col1'],\n",
    "    y=df2['Col2'],\n",
    "    line=dict(\n",
    "        color=\"#FFFFFF\",\n",
    "    ),\n",
    "    xaxis='x2',\n",
    "    visible=False\n",
    ")\n",
    "data=[trace1, trace2, trace3]\n",
    "\n",
    "layout=go.Layout(\n",
    "    xaxis=dict(\n",
    "        showgrid=False,\n",
    "        range=[1988, 2015],\n",
    "        ticks=\"\",\n",
    "        tickangle= -90,\n",
    "        autotick=False,\n",
    "        zeroline=True,\n",
    "        zerolinecolor='#FFFFFF',\n",
    "        tickcolor='#b0b1b2',\n",
    "        tickfont=dict(family=\"Arial\", size=9),\n",
    "        tickprefix=\"1Q\",\n",
    "    ),\n",
    "    yaxis=dict(\n",
    "        showgrid=False,\n",
    "        autorange=False,\n",
    "        nticks=9,\n",
    "        range=[-3000, 5000],\n",
    "        ticks=\"outside\",\n",
    "        showline=True,\n",
    "        linecolor='#b0b1b2',\n",
    "        zerolinecolor='#b0b1b2',\n",
    "        tickcolor='#b0b1b2',\n",
    "        tickfont=dict(family=\"Arial\", size=9),\n",
    "        ticksuffix=\" \"\n",
    "    ),\n",
    "    xaxis2=dict(\n",
    "        autotick=False,\n",
    "        range=[1988, 2015],\n",
    "        overlaying='x',\n",
    "        position=\"0.38\",\n",
    "        tickcolor='#b0b1b2',\n",
    "        ticks=\"outside\",\n",
    "        showticklabels=False,\n",
    "        showgrid=False,\n",
    "        fixedrange=True,\n",
    "    ),\n",
    "    margin=go.Margin(\n",
    "        l=40,\n",
    "        r=10,\n",
    "        b=-1,\n",
    "        t=5,\n",
    "        pad=2\n",
    "    ),\n",
    "    legend=dict(xanchor=\"center\", yanchor= \"bottom\", x=0.5, y=-.40, orientation= \"h\",         \n",
    "        font=dict(\n",
    "            size=9,\n",
    "        ),),\n",
    "    hovermode='closest',\n",
    "    height=\"200\",\n",
    "    width=\"550\",\n",
    "    paper_bgcolor='rgba(0,0,0,0)',\n",
    "    plot_bgcolor='rgba(0,0,0,0)'\n",
    "\n",
    ")\n",
    "fig = go.Figure(data=data, layout=layout)\n",
    "py.plot(fig, filename='ExhibitOne')"
   ]
  }
 ],
 "metadata": {
  "kernelspec": {
   "display_name": "Python 2",
   "language": "python",
   "name": "python2"
  },
  "language_info": {
   "codemirror_mode": {
    "name": "ipython",
    "version": 2
   },
   "file_extension": ".py",
   "mimetype": "text/x-python",
   "name": "python",
   "nbconvert_exporter": "python",
   "pygments_lexer": "ipython2",
   "version": "2.7.13"
  }
 },
 "nbformat": 4,
 "nbformat_minor": 2
}
